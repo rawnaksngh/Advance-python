{
 "cells": [
  {
   "cell_type": "code",
   "execution_count": 1,
   "id": "5a4751db-006d-4198-bcfc-3e47b6fe1880",
   "metadata": {},
   "outputs": [
    {
     "name": "stdout",
     "output_type": "stream",
     "text": [
      "feat1 works\n",
      "feat2 works\n",
      "feat3 works\n",
      "feat4 works\n"
     ]
    }
   ],
   "source": [
    "#INHERITANCE\n",
    "class A:\n",
    "    #defining features of class A\n",
    "    def feat1(self):\n",
    "        print(\"feat1 works\")\n",
    "    def feat2(self):\n",
    "        print(\"feat2 works\")\n",
    "#Making class B INCluding of class A methods.\n",
    "class B(A):\n",
    "    def feat3(self):\n",
    "        print(\"feat3 works\")\n",
    "    def feat4(self):\n",
    "        print(\"feat4 works\")\n",
    "\n",
    "b1=B()\n",
    "b1.feat1()\n",
    "b1.feat2()\n",
    "b1.feat3()\n",
    "b1.feat4()\n",
    "        \n",
    "\n"
   ]
  },
  {
   "cell_type": "code",
   "execution_count": 4,
   "id": "29e28312-5683-4b60-ac86-9930153d0cfb",
   "metadata": {},
   "outputs": [
    {
     "name": "stdout",
     "output_type": "stream",
     "text": [
      "feat5 works\n",
      "feat3 works\n",
      "feat2 works\n"
     ]
    }
   ],
   "source": [
    "#INHERITANCE\n",
    "class A:\n",
    "    #defining features of class A\n",
    "    def feat1(self):\n",
    "        print(\"feat1 works\")\n",
    "    def feat2(self):\n",
    "        print(\"feat2 works\")\n",
    "#Making class B INCluding of class A methods.\n",
    "class B(A):\n",
    "    def feat3(self):\n",
    "        print(\"feat3 works\")\n",
    "    def feat4(self):\n",
    "        print(\"feat4 works\")\n",
    "class C(B):\n",
    "    def feat5(self):\n",
    "        print(\"feat5 works\")\n",
    "    def feat6(self):\n",
    "        print(\"feat6 works\")\n",
    "        \n",
    "\n",
    "c1=C()\n",
    "c1.feat5()\n",
    "c1.feat3()\n",
    "c1.feat2()\n",
    "\n",
    "        \n",
    "\n"
   ]
  }
 ],
 "metadata": {
  "kernelspec": {
   "display_name": "Python 3 (ipykernel)",
   "language": "python",
   "name": "python3"
  },
  "language_info": {
   "codemirror_mode": {
    "name": "ipython",
    "version": 3
   },
   "file_extension": ".py",
   "mimetype": "text/x-python",
   "name": "python",
   "nbconvert_exporter": "python",
   "pygments_lexer": "ipython3",
   "version": "3.12.9"
  }
 },
 "nbformat": 4,
 "nbformat_minor": 5
}
