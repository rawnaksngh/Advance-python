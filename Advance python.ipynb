{
 "cells": [
  {
   "cell_type": "code",
   "execution_count": 1,
   "id": "d0938b5f-92c6-42fa-878f-ec24cb5d9a8c",
   "metadata": {},
   "outputs": [
    {
     "name": "stdout",
     "output_type": "stream",
     "text": [
      "i5, 16gb, 1tb\n"
     ]
    }
   ],
   "source": [
    "class computer:\n",
    "    def config(self):\n",
    "        print(\"i5, 16gb, 1tb\")\n",
    "comp1=computer()\n",
    "computer.config(comp1)"
   ]
  },
  {
   "cell_type": "code",
   "execution_count": 2,
   "id": "777a9cda-8afc-4f84-85a8-2fea415b6ee8",
   "metadata": {},
   "outputs": [
    {
     "name": "stdout",
     "output_type": "stream",
     "text": [
      "i5, 16GB, 1TB\n"
     ]
    }
   ],
   "source": [
    "class Computer:\n",
    "    def config(self):\n",
    "        print(\"i5, 16GB, 1TB\")\n",
    "\n",
    "comp1 = Computer()\n",
    "comp1.config()"
   ]
  },
  {
   "cell_type": "code",
   "execution_count": 3,
   "id": "7e0f444c-ab3b-4aa5-960e-f26246065216",
   "metadata": {},
   "outputs": [
    {
     "name": "stdout",
     "output_type": "stream",
     "text": [
      "i5, 16GB, 1TB\n"
     ]
    }
   ],
   "source": [
    "def config():\n",
    "    print(\"i5, 16GB, 1TB\")\n",
    "\n",
    "config()"
   ]
  },
  {
   "cell_type": "code",
   "execution_count": 4,
   "id": "39a64250-ac85-4b99-842e-bf11de6a7943",
   "metadata": {},
   "outputs": [
    {
     "name": "stdout",
     "output_type": "stream",
     "text": [
      "config is 8gb 128gb qlcommsd7\n",
      "config is 16gb 512gb gicoomsde\n",
      "config is 12gb 256gb mediatek dimensity\n"
     ]
    }
   ],
   "source": [
    "class rlmgt6t:\n",
    "    def __init__(self, ram, rom, processor):\n",
    "        self.ram = ram\n",
    "        self.rom = rom\n",
    "        self.processor = processor\n",
    "\n",
    "    def config(self):\n",
    "        print(\"config is\", self.ram, self.rom, self.processor)\n",
    "\n",
    "# Creating instances of the class\n",
    "phone1 = rlmgt6t(\"8gb\", \"128gb\", \"qlcommsd7\")\n",
    "phone2 = rlmgt6t(\"16gb\", \"512gb\", \"gicoomsde\")\n",
    "phone3 = rlmgt6t(\"12gb\", \"256gb\", \"mediatek dimensity\")\n",
    "\n",
    "# Calling the config method on each instance\n",
    "phone1.config()\n",
    "phone2.config()\n",
    "phone3.config()"
   ]
  },
  {
   "cell_type": "code",
   "execution_count": null,
   "id": "31b6740a-2387-4002-a065-fa18b5a6eeb0",
   "metadata": {},
   "outputs": [],
   "source": []
  }
 ],
 "metadata": {
  "kernelspec": {
   "display_name": "Python 3 (ipykernel)",
   "language": "python",
   "name": "python3"
  },
  "language_info": {
   "codemirror_mode": {
    "name": "ipython",
    "version": 3
   },
   "file_extension": ".py",
   "mimetype": "text/x-python",
   "name": "python",
   "nbconvert_exporter": "python",
   "pygments_lexer": "ipython3",
   "version": "3.12.9"
  }
 },
 "nbformat": 4,
 "nbformat_minor": 5
}
